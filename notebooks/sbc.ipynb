{
 "cells": [
  {
   "cell_type": "code",
   "execution_count": null,
   "metadata": {},
   "outputs": [],
   "source": [
    "%pip install requests"
   ]
  },
  {
   "cell_type": "markdown",
   "metadata": {},
   "source": [
    "## Auth"
   ]
  },
  {
   "cell_type": "code",
   "execution_count": 4,
   "metadata": {},
   "outputs": [
    {
     "name": "stdout",
     "output_type": "stream",
     "text": [
      "Authentication failed: 403, \n"
     ]
    }
   ],
   "source": [
    "import requests\n",
    "import json\n",
    "\n",
    "# Define the authentication URL\n",
    "auth_url = 'https://utas.mob.v4.prd.futc-ext.gcp.ea.com/ut/auth'\n",
    "\n",
    "# Define the headers as specified\n",
    "headers = {\n",
    "    'Accept': '*/*',\n",
    "    'Accept-Encoding': 'gzip, deflate, br, zstd',\n",
    "    'Accept-Language': 'en-US,en;q=0.9',\n",
    "    'Cache-Control': 'no-cache',\n",
    "    'Connection': 'keep-alive',\n",
    "    'Content-Type': 'application/json',\n",
    "    'DNT': '1',\n",
    "    'Host': 'utas.mob.v4.prd.futc-ext.gcp.ea.com',\n",
    "    'Origin': 'https://www.ea.com',\n",
    "    'Referer': 'https://www.ea.com/',\n",
    "    'Sec-Fetch-Dest': 'empty',\n",
    "    'Sec-Fetch-Mode': 'cors',\n",
    "    'Sec-Fetch-Site': 'same-site',\n",
    "    'User-Agent': 'Mozilla/5.0 (Macintosh; Intel Mac OS X 10_15_7) AppleWebKit/537.36 (KHTML, like Gecko) Chrome/131.0.0.0 Safari/537.36',\n",
    "    'X-UT-PHISHING-TOKEN': '0',\n",
    "    'sec-ch-ua': '\"Google Chrome\";v=\"131\", \"Chromium\";v=\"131\", \"Not_A Brand\";v=\"24\"',\n",
    "    'sec-ch-ua-mobile': '?0',\n",
    "    'sec-ch-ua-platform': '\"macOS\"'\n",
    "}\n",
    "\n",
    "# Prepare the JSON body for the authentication request\n",
    "# NOTE: You need to modify the payload as per the API requirements\n",
    "payload = {\n",
    "    'username': 'your_username',  # Replace with actual username\n",
    "    'password': 'your_password'   # Replace with actual password\n",
    "}\n",
    "\n",
    "# Send the POST request to authenticate\n",
    "response = requests.post(auth_url, headers=headers, data=json.dumps(payload))\n",
    "\n",
    "# Check for response\n",
    "if response.status_code == 200:\n",
    "    # Print the response content (JSON)\n",
    "    print(\"Authentication successful. Response JSON:\")\n",
    "    print(response.json())\n",
    "else:\n",
    "    print(f\"Authentication failed: {response.status_code}, {response.text}\")"
   ]
  },
  {
   "cell_type": "code",
   "execution_count": 3,
   "metadata": {},
   "outputs": [
    {
     "name": "stdout",
     "output_type": "stream",
     "text": [
      "Failed to retrieve data: 401\n"
     ]
    }
   ],
   "source": [
    "import requests\n",
    "\n",
    "# Define the URL\n",
    "url = 'https://utas.mob.v4.prd.futc-ext.gcp.ea.com/ut/game/fc25/sbs/sets'\n",
    "\n",
    "# Define the headers to be included in the request\n",
    "headers = {\n",
    "    'Accept': '*/*',\n",
    "    'Accept-Encoding': 'gzip, deflate, br, zstd',\n",
    "    'Accept-Language': 'en-US,en;q=0.9',\n",
    "    'Connection': 'keep-alive',\n",
    "    'Content-Type': 'application/json',\n",
    "    'DNT': '1',\n",
    "    'Host': 'utas.mob.v4.prd.futc-ext.gcp.ea.com',\n",
    "    'Origin': 'https://www.ea.com',\n",
    "    'Referer': 'https://www.ea.com/',\n",
    "    'Sec-Fetch-Dest': 'empty',\n",
    "    'Sec-Fetch-Mode': 'cors',\n",
    "    'Sec-Fetch-Site': 'same-site',\n",
    "    'User-Agent': 'Mozilla/5.0 (Macintosh; Intel Mac OS X 10_15_7) AppleWebKit/537.36 (KHTML, like Gecko) Chrome/131.0.0.0 Safari/537.36',\n",
    "    'X-UT-SID': 'a26b7bc4-4db8-4e78-9224-da0c497f96c8',\n",
    "    'sec-ch-ua': '\"Google Chrome\";v=\"131\", \"Chromium\";v=\"131\", \"Not_A Brand\";v=\"24\"',\n",
    "    'sec-ch-ua-mobile': '?0',\n",
    "    'sec-ch-ua-platform': '\"macOS\"'\n",
    "}\n",
    "\n",
    "# Send the GET request\n",
    "response = requests.get(url, headers=headers)\n",
    "\n",
    "# Check if the request was successful\n",
    "if response.status_code == 200:\n",
    "    # Print the response content (JSON)\n",
    "    print(\"Response JSON:\")\n",
    "    print(response.json())\n",
    "else:\n",
    "    print(f\"Failed to retrieve data: {response.status_code}\")"
   ]
  }
 ],
 "metadata": {
  "kernelspec": {
   "display_name": "jupyter",
   "language": "python",
   "name": "python3"
  },
  "language_info": {
   "codemirror_mode": {
    "name": "ipython",
    "version": 3
   },
   "file_extension": ".py",
   "mimetype": "text/x-python",
   "name": "python",
   "nbconvert_exporter": "python",
   "pygments_lexer": "ipython3",
   "version": "3.10.14"
  }
 },
 "nbformat": 4,
 "nbformat_minor": 2
}
